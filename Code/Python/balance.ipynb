{
 "cells": [
  {
   "cell_type": "code",
   "execution_count": 1,
   "metadata": {},
   "outputs": [],
   "source": [
    "import numpy as np\n",
    "import numpy_linalg as la\n",
    "import complex_synapse as cs\n",
    "from sl_py_tools.import_tricks import reload"
   ]
  },
  {
   "cell_type": "code",
   "execution_count": 2,
   "metadata": {},
   "outputs": [],
   "source": [
    "np.set_printoptions(precision=4, suppress=True)"
   ]
  },
  {
   "cell_type": "code",
   "execution_count": 89,
   "metadata": {},
   "outputs": [
    {
     "name": "stdout",
     "output_type": "stream",
     "text": [
      "Reloading complex_synapse.synapse_memory_model\n",
      "Reloading complex_synapse.synapse_base\n",
      "Reloading complex_synapse.builders\n",
      "Reloading complex_synapse.synapse_opt\n"
     ]
    }
   ],
   "source": [
    "reload(cs)"
   ]
  },
  {
   "cell_type": "code",
   "execution_count": 3,
   "metadata": {},
   "outputs": [],
   "source": [
    "def balance_grad(model: cs.SynapseMemoryModel, s: float) -> float:\n",
    "    W = model.markov()\n",
    "    Zi = model.zinv(s)\n",
    "    K = model.enc()\n",
    "    p = model.peq()\n",
    "    Zid = cs.builders.adjoint(Zi, p)\n",
    "    return (p.r @ K @ Zi.inv @ (la.eye(model.nstates) - Zid @ Zi.inv) @ model.weight.c).us"
   ]
  },
  {
   "cell_type": "code",
   "execution_count": 4,
   "metadata": {},
   "outputs": [],
   "source": [
    "s = 4\n",
    "n = 6"
   ]
  },
  {
   "cell_type": "code",
   "execution_count": 5,
   "metadata": {},
   "outputs": [
    {
     "name": "stdout",
     "output_type": "stream",
     "text": [
      "gradient [0.0494 0.0349 0.0258 0.0198 0.0155 0.0125 0.0102 0.0085 0.0072 0.0061]\n",
      "laplace [0.2677 0.2306 0.2026 0.1807 0.163  0.1485 0.1363 0.126  0.1172 0.1095]\n",
      "sign True\n"
     ]
    }
   ],
   "source": [
    "syn = cs.SynapseMemoryModel.rand(n, binary=True)\n",
    "ss = la.linspace(0, s, 10)\n",
    "print('gradient', balance_grad(syn, ss))\n",
    "print('laplace', syn.snr_laplace(ss))\n",
    "print('sign', (balance_grad(syn, ss) * syn.snr_laplace(ss) >= 0).all())"
   ]
  },
  {
   "cell_type": "code",
   "execution_count": 97,
   "metadata": {},
   "outputs": [],
   "source": [
    "W = syn.markov()\n",
    "Zi = syn.zinv(s)\n",
    "K = syn.enc()\n",
    "p = syn.peq()\n",
    "Zid = cs.builders.adjoint(Zi, p)"
   ]
  }
 ],
 "metadata": {
  "kernelspec": {
   "display_name": "Python 3",
   "language": "python",
   "name": "python3"
  },
  "language_info": {
   "codemirror_mode": {
    "name": "ipython",
    "version": 3
   },
   "file_extension": ".py",
   "mimetype": "text/x-python",
   "name": "python",
   "nbconvert_exporter": "python",
   "pygments_lexer": "ipython3",
   "version": "3.7.2"
  }
 },
 "nbformat": 4,
 "nbformat_minor": 2
}
